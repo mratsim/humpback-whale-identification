{
 "cells": [
  {
   "cell_type": "code",
   "execution_count": 1,
   "metadata": {},
   "outputs": [
    {
     "name": "stderr",
     "output_type": "stream",
     "text": [
      "/usr/lib/python3.7/site-packages/tqdm/autonotebook/__init__.py:14: TqdmExperimentalWarning: Using `tqdm.autonotebook.tqdm` in notebook mode. Use `tqdm.tqdm` instead to force console mode (e.g. in jupyter console)\n",
      "  \" (e.g. in jupyter console)\", TqdmExperimentalWarning)\n"
     ]
    }
   ],
   "source": [
    "import torch\n",
    "from torch import nn, optim\n",
    "from torch.nn import DataParallel\n",
    "import torch.nn.functional as F\n",
    "\n",
    "# Nvidia Apex, fp16 and mixed precision training\n",
    "from apex.fp16_utils import *\n",
    "\n",
    "# Nvidia DALI, GPU Data Augmentation Library\n",
    "from nvidia.dali.plugin.pytorch import DALIClassificationIterator\n",
    "\n",
    "# Utilities\n",
    "import random\n",
    "import os\n",
    "import pickle\n",
    "\n",
    "# Output\n",
    "import pandas as pd\n",
    "\n",
    "# local import\n",
    "from src.instrumentation import setup_logs, logspeed\n",
    "from src.datafeed import *\n",
    "from src.net_classic_arch import *\n",
    "from src.training import train\n",
    "from src.lr_finder import LRFinder\n"
   ]
  },
  {
   "cell_type": "code",
   "execution_count": 2,
   "metadata": {},
   "outputs": [],
   "source": [
    "torch.manual_seed(1337)\n",
    "torch.cuda.manual_seed(1337)\n",
    "# np.random.seed(1337)\n",
    "random.seed(1337)"
   ]
  },
  {
   "cell_type": "code",
   "execution_count": 3,
   "metadata": {},
   "outputs": [],
   "source": [
    "TRAIN_DIR = './input/train'\n",
    "TRAIN_FULL_IMG_LIST = './preprocessing/full_input.txt'\n",
    "TRAIN_FOLD_IMG_LIST = './preprocessing/fold0_train.txt'\n",
    "VAL_IMG_LIST = './preprocessing/fold0_val.txt'\n",
    "LABEL_ENCODER_PATH = './preprocessing/labelEncoder.pickle'\n",
    "\n",
    "TEST_DIR = './input/test'\n",
    "TEST_IMG_LIST = './preprocessing/test_data.txt'\n",
    "SUBMISSION_FILE = './input/sample_submission.csv'\n",
    "OUT_DIR = './outputs'\n",
    "\n",
    "NUM_THREADS = 18\n",
    "\n",
    "EPOCHS = 25\n",
    "BATCH_SIZE = 96          # This will be split onto all GPUs\n",
    "VAL_BATCH_SIZE = 768     # We can use large batches when weights are frozen\n",
    "REPORT_EVERY_N_BATCH = 5\n",
    "\n",
    "PRETRAINED = False\n",
    "UNFROZE_AT_EPOCH = 3\n",
    "BATCH_FROZEN = 768       # We can use large batches when weights are frozen\n",
    "\n",
    "# GPU data augmentation\n",
    "# Note that it's probably better to do augmentation on CPU for compute intensive models\n",
    "# So that you can maximize the batch size and training on GPU.\n",
    "DATA_AUGMENT_USE_GPU = False\n",
    "DATA_AUGMENT_GPU_DEVICE = 0\n",
    "\n",
    "if PRETRAINED:\n",
    "  # ImgNet normalization\n",
    "  NORM_MEAN = [0.485, 0.456, 0.406]\n",
    "  NORM_STD = [0.229, 0.224, 0.225]\n",
    "else:\n",
    "  # Dataset normalization parameter\n",
    "  NORM_MEAN = [0.6073162, 0.5655911, 0.528621]\n",
    "  NORM_STD = [0.26327327, 0.2652084, 0.27765632]\n",
    "\n",
    "with open(LABEL_ENCODER_PATH, 'rb') as fh:\n",
    "  LABEL_ENCODER = pickle.load(fh)\n",
    "\n",
    "CRITERION = nn.CrossEntropyLoss\n",
    "FINAL_ACTIVATION = lambda x: torch.softmax(x, dim=1)"
   ]
  },
  {
   "cell_type": "code",
   "execution_count": 4,
   "metadata": {},
   "outputs": [],
   "source": [
    "model_family = 'resnet'\n",
    "model_name = 'resnet101'\n",
    "def gen_model_and_optimizer(data_parallel, weights = None):\n",
    "  # Delay generating model, so that:\n",
    "  #   - it can be collected if needed\n",
    "  #   - DataParallel doesn't causes issue when loading a saved model\n",
    "  model, feature_extractor, classifier = initialize_model(\n",
    "    model_family = model_family,\n",
    "    model_name = model_name,\n",
    "    num_classes = LABEL_ENCODER.classes_.size,\n",
    "    frozen_weights = PRETRAINED,\n",
    "    use_pretrained = PRETRAINED,\n",
    "    data_parallel = data_parallel,\n",
    "    weights = weights\n",
    "  )\n",
    "\n",
    "  # TODO: cyclic momentum\n",
    "  optimizer = optim.SGD(feature_extractor, lr = 0.01, momentum = 0.9)\n",
    "  optimizer.add_param_group({\n",
    "    'params': classifier,\n",
    "    'lr': 0.001\n",
    "  })\n",
    "\n",
    "  # Make sure if there is a reference issue we see it ASAP\n",
    "  del feature_extractor\n",
    "  del classifier\n",
    "\n",
    "  return model, optimizer"
   ]
  },
  {
   "cell_type": "code",
   "execution_count": 5,
   "metadata": {},
   "outputs": [],
   "source": [
    "train_pipe = SimplePipeline(\n",
    "    img_dir=TRAIN_DIR,\n",
    "    img_list_path= TRAIN_FULL_IMG_LIST,\n",
    "    batch_size=BATCH_SIZE,\n",
    "    crop_size=224,\n",
    "    ch_mean = NORM_MEAN,\n",
    "    ch_std = NORM_STD,\n",
    "    num_threads = NUM_THREADS,\n",
    "    use_gpu = DATA_AUGMENT_USE_GPU,\n",
    "    gpu_id = DATA_AUGMENT_GPU_DEVICE,\n",
    "    seed = 1337\n",
    ")\n",
    "train_pipe.build()\n",
    "train_loader = DALIClassificationIterator(train_pipe, size = train_pipe.epoch_size(\"Datafeed\"))\n"
   ]
  },
  {
   "cell_type": "code",
   "execution_count": 6,
   "metadata": {},
   "outputs": [],
   "source": [
    "model, optimizer = gen_model_and_optimizer(data_parallel = True)"
   ]
  },
  {
   "cell_type": "code",
   "execution_count": 7,
   "metadata": {},
   "outputs": [],
   "source": [
    "criterion = CRITERION()"
   ]
  },
  {
   "cell_type": "code",
   "execution_count": 8,
   "metadata": {},
   "outputs": [],
   "source": [
    "lr_finder = LRFinder(model, optimizer, criterion, device=\"cuda\")"
   ]
  },
  {
   "cell_type": "code",
   "execution_count": 9,
   "metadata": {
    "scrolled": true
   },
   "outputs": [
    {
     "data": {
      "application/vnd.jupyter.widget-view+json": {
       "model_id": "e9233938e8ae4316985e35c332ebd2ac",
       "version_major": 2,
       "version_minor": 0
      },
      "text/plain": [
       "HBox(children=(IntProgress(value=0), HTML(value='')))"
      ]
     },
     "metadata": {},
     "output_type": "display_data"
    },
    {
     "name": "stdout",
     "output_type": "stream",
     "text": [
      "Stopping early, the loss has diverged\n",
      "Learning rate search finished. See the graph with {finder_name}.plot()\n"
     ]
    }
   ],
   "source": [
    "lr_finder.range_test(train_loader, end_lr=100, num_iter=100, step_mode=\"exp\")"
   ]
  },
  {
   "cell_type": "code",
   "execution_count": 10,
   "metadata": {},
   "outputs": [
    {
     "data": {
      "image/png": "[encoded data removed]",
      "text/plain": [
       "<Figure size 432x288 with 1 Axes>"
      ]
     },
     "metadata": {
      "needs_background": "light"
     },
     "output_type": "display_data"
    }
   ],
   "source": [
    "lr_finder.plot()"
   ]
  },
  {
   "cell_type": "code",
   "execution_count": null,
   "metadata": {},
   "outputs": [],
   "source": []
  }
 ],
 "metadata": {
  "kernelspec": {
   "display_name": "Python 3",
   "language": "python",
   "name": "python3"
  },
  "language_info": {
   "codemirror_mode": {
    "name": "ipython",
    "version": 3
   },
   "file_extension": ".py",
   "mimetype": "text/x-python",
   "name": "python",
   "nbconvert_exporter": "python",
   "pygments_lexer": "ipython3",
   "version": "3.7.2"
  }
 },
 "nbformat": 4,
 "nbformat_minor": 2
}
